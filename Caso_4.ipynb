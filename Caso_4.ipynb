{
  "nbformat": 4,
  "nbformat_minor": 0,
  "metadata": {
    "colab": {
      "name": "Caso 4",
      "provenance": [],
      "authorship_tag": "ABX9TyNdDUJYJnfyp3yl01wuSkjW",
      "include_colab_link": true
    },
    "kernelspec": {
      "name": "python3",
      "display_name": "Python 3"
    }
  },
  "cells": [
    {
      "cell_type": "markdown",
      "metadata": {
        "id": "view-in-github",
        "colab_type": "text"
      },
      "source": [
        "<a href=\"https://colab.research.google.com/github/Alexis09Luque/casosDatahack/blob/main/Caso_4.ipynb\" target=\"_parent\"><img src=\"https://colab.research.google.com/assets/colab-badge.svg\" alt=\"Open In Colab\"/></a>"
      ]
    },
    {
      "cell_type": "markdown",
      "metadata": {
        "id": "lTni4SbCQTio"
      },
      "source": [
        "@author *Luque Ayala Juan Alexis* "
      ]
    },
    {
      "cell_type": "markdown",
      "metadata": {
        "id": "PmoaluE3lhl9"
      },
      "source": [
        "# 4. Scrapear todo los titulos de los comics de la página https://xkcd.com/archive/  y guardarlos en archivo 'comic.csv'"
      ]
    },
    {
      "cell_type": "markdown",
      "metadata": {
        "id": "B83St2S642dA"
      },
      "source": [
        "**INSTALANDO LIBRERIAS**"
      ]
    },
    {
      "cell_type": "code",
      "metadata": {
        "colab": {
          "base_uri": "https://localhost:8080/"
        },
        "id": "DNRDuCD8Tw5I",
        "outputId": "82ec1ba9-0e75-4685-c380-be8365cc8e45"
      },
      "source": [
        "!pip install beautifulsoup4\r\n",
        "!pip install bs4"
      ],
      "execution_count": null,
      "outputs": [
        {
          "output_type": "stream",
          "text": [
            "Requirement already satisfied: beautifulsoup4 in /usr/local/lib/python3.6/dist-packages (4.6.3)\n",
            "Requirement already satisfied: bs4 in /usr/local/lib/python3.6/dist-packages (0.0.1)\n",
            "Requirement already satisfied: beautifulsoup4 in /usr/local/lib/python3.6/dist-packages (from bs4) (4.6.3)\n"
          ],
          "name": "stdout"
        }
      ]
    },
    {
      "cell_type": "markdown",
      "metadata": {
        "id": "4lvIYEJ349db"
      },
      "source": [
        "**IMPORTANDO LIBRERIAS A USAR**"
      ]
    },
    {
      "cell_type": "code",
      "metadata": {
        "id": "YbI8KtheU1kU"
      },
      "source": [
        "import requests\r\n",
        "from bs4 import BeautifulSoup\r\n",
        "import numpy as np\r\n",
        "import pandas as pd"
      ],
      "execution_count": null,
      "outputs": []
    },
    {
      "cell_type": "markdown",
      "metadata": {
        "id": "OCM9pDbW_eUc"
      },
      "source": [
        "**EXTRAYENDO TITULOS DE COMICS**"
      ]
    },
    {
      "cell_type": "code",
      "metadata": {
        "id": "Ub3JCDaMgAlf"
      },
      "source": [
        "url = \"https://xkcd.com/archive/\"\r\n",
        "#hacemos una petición get a  al url a scrapear\r\n",
        "page = requests.get(url)\r\n",
        "#extraemos el contenido de la pagina(page.content),en  formato html(\"html.parser\") \r\n",
        "content = BeautifulSoup(page.content,\"html.parser\")\r\n",
        "\r\n",
        "#los titulos de los cómics se encuentran en la etiqueta a\r\n",
        "#extraemos todas las etiquetas <a>\r\n",
        "tags_a = content.find_all('a')\r\n",
        "\r\n",
        "#Solo las etiquetas <a> con el tributo \"title\" tienen como contenido el título de los comics\r\n",
        "#array para guardar titulo de comics\r\n",
        "titles_comics = []\r\n",
        "\r\n",
        "#recorremos tags_a y las que cuenten con atributo \"titte\" extraemos su texto que es el título de los comics\r\n",
        "for a in tags_a:\r\n",
        "  if a.has_attr(\"title\"):\r\n",
        "   titles_comics.append(a.text)\r\n",
        "\r\n",
        "#creamos un numpy array a partir del array titles_comics para un mejor manejo\r\n",
        "numpy_comics = np.array(titles_comics)\r\n",
        "\r\n",
        "#\"giramos numpy_comics\"(transpuesta) para una mejor presentación\r\n",
        "numpy_comics = numpy_comics.T"
      ],
      "execution_count": null,
      "outputs": []
    },
    {
      "cell_type": "markdown",
      "metadata": {
        "id": "Q9K-vnIc-yap"
      },
      "source": [
        "**DESCARGANDO EN FORMATO CSV**"
      ]
    },
    {
      "cell_type": "code",
      "metadata": {
        "id": "3PGurSPlv4iD"
      },
      "source": [
        "#transformamos el numpy_comics en un datfarme para realizar la descarga en excel\r\n",
        "df = pd.DataFrame(numpy_comics, columns = ['Title_comic'])\r\n",
        "#descargamos en formato csv\r\n",
        "df.to_csv(\"comics.csv\")"
      ],
      "execution_count": null,
      "outputs": []
    },
    {
      "cell_type": "markdown",
      "metadata": {
        "id": "FRXn73cz_yeA"
      },
      "source": [
        "*Para verificar el archivo comics.csv, revise la carpeta de su proyecto*"
      ]
    }
  ]
}