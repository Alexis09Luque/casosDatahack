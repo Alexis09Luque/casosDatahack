{
  "nbformat": 4,
  "nbformat_minor": 0,
  "metadata": {
    "colab": {
      "name": "Caso 1",
      "provenance": [],
      "authorship_tag": "ABX9TyPMue65as0wvho2wz2dLfJa",
      "include_colab_link": true
    },
    "kernelspec": {
      "name": "python3",
      "display_name": "Python 3"
    }
  },
  "cells": [
    {
      "cell_type": "markdown",
      "metadata": {
        "id": "view-in-github",
        "colab_type": "text"
      },
      "source": [
        "<a href=\"https://colab.research.google.com/github/Alexis09Luque/casosDatahack/blob/main/Caso_1.ipynb\" target=\"_parent\"><img src=\"https://colab.research.google.com/assets/colab-badge.svg\" alt=\"Open In Colab\"/></a>"
      ]
    },
    {
      "cell_type": "markdown",
      "metadata": {
        "id": "G1faKVmdQpBn"
      },
      "source": [
        "@author *Luque Ayala Juan Alexis* "
      ]
    },
    {
      "cell_type": "markdown",
      "metadata": {
        "id": "wQaWzye1pc4D"
      },
      "source": [
        "# Elaborar un programa que determine la suma de los dígitos de un número (de hasta 5 dígitos). Ej:\r\n",
        " \r\n",
        "\r\n",
        "Input 45       103\r\n",
        "Output 9           4\r\n",
        "\r\n",
        "\r\n",
        "\r\n"
      ]
    },
    {
      "cell_type": "markdown",
      "metadata": {
        "id": "XjySho8wpsTn"
      },
      "source": [
        "**FUNCION**"
      ]
    },
    {
      "cell_type": "code",
      "metadata": {
        "id": "YxHxDV7fiYIm"
      },
      "source": [
        "def sumaDigitos(numero):\r\n",
        "  #variables a usar\r\n",
        "  band = True\r\n",
        "  suma = 0\r\n",
        "  #bucle para sumar los dígitos\r\n",
        "  while(band):\r\n",
        "    #mediante el residuo conseguiremos los dígitos del número  \r\n",
        "    residuo = numero%10\r\n",
        "    #el cociente de la divión entera será nuestro nuevo número\r\n",
        "    numero = numero//10\r\n",
        "    suma+=residuo\r\n",
        "    if(numero<10):\r\n",
        "      suma+=numero\r\n",
        "      band = False\r\n",
        "  return suma"
      ],
      "execution_count": 1,
      "outputs": []
    },
    {
      "cell_type": "markdown",
      "metadata": {
        "id": "W1igF6JEf7Ue"
      },
      "source": [
        "**PRUEBA**"
      ]
    },
    {
      "cell_type": "code",
      "metadata": {
        "colab": {
          "base_uri": "https://localhost:8080/"
        },
        "id": "YgZoPTaywNvp",
        "outputId": "d4e7b45e-f671-4cb6-9d0c-8c977e69f708"
      },
      "source": [
        "print(sumaDigitos(45))\r\n",
        "print(sumaDigitos(103))"
      ],
      "execution_count": 2,
      "outputs": [
        {
          "output_type": "stream",
          "text": [
            "9\n",
            "4\n"
          ],
          "name": "stdout"
        }
      ]
    }
  ]
}