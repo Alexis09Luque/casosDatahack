{
  "nbformat": 4,
  "nbformat_minor": 0,
  "metadata": {
    "colab": {
      "name": "Caso 3",
      "provenance": [],
      "collapsed_sections": [],
      "authorship_tag": "ABX9TyOP9unUjti0+ibsrNA2oA2j",
      "include_colab_link": true
    },
    "kernelspec": {
      "name": "python3",
      "display_name": "Python 3"
    }
  },
  "cells": [
    {
      "cell_type": "markdown",
      "metadata": {
        "id": "view-in-github",
        "colab_type": "text"
      },
      "source": [
        "<a href=\"https://colab.research.google.com/github/Alexis09Luque/casosDatahack/blob/main/Caso_3.ipynb\" target=\"_parent\"><img src=\"https://colab.research.google.com/assets/colab-badge.svg\" alt=\"Open In Colab\"/></a>"
      ]
    },
    {
      "cell_type": "markdown",
      "metadata": {
        "id": "LfGbosM4PZIO"
      },
      "source": [
        "@author *Luque Ayala Juan Alexis* "
      ]
    },
    {
      "cell_type": "markdown",
      "metadata": {
        "id": "RabQFaLfkN9R"
      },
      "source": [
        "# Encontrar los números que se repiten (dos o más veces) en un arreglo(array) de 100 valores aleatorios.\r\n",
        "Input V1= [45, 12, 1, 4, 103, 123, 1, 5, 9]\r\n",
        "\r\n",
        "Output esperado 1\r\n",
        "\r\n",
        "Input V1= [45, 12, 1, 4, 45, 123, 1, 5, 9]\r\n",
        "    \r\n",
        "Output esperado 45, 1\r\n",
        "\r\n",
        "Input V1= [45, 123, 1, 4, 45, 123, 1, 5, 9]\r\n",
        "\r\n",
        "Output esperado 45, 1, 123"
      ]
    },
    {
      "cell_type": "markdown",
      "metadata": {
        "id": "UyPvHCA4NRWO"
      },
      "source": [
        "**FUNCION**"
      ]
    },
    {
      "cell_type": "code",
      "metadata": {
        "id": "qpVGqeVtkaqW"
      },
      "source": [
        "def repetidos(array):\r\n",
        "  #array_repetidos guardará los elementos repetidos\r\n",
        "  array_repetidos = []\r\n",
        "  for indice in range(0,len(array)):\r\n",
        "    #elemento a evaluar\r\n",
        "    elemento = array[indice]\r\n",
        "    \r\n",
        "    #extraemos el elemento a evaluar del array \r\n",
        "    array.pop(indice)\r\n",
        "\r\n",
        "    #guardamos el array sin el elemento de la lista a evaluar\r\n",
        "    array_aux = array\r\n",
        "\r\n",
        "    #si existe otro elemento en el array y \r\n",
        "    #si no ha sido añadido antes, lo agregamos en array_repetidos\r\n",
        "    if elemento in array_aux and elemento not in array_repetidos:\r\n",
        "      array_repetidos.append(elemento)\r\n",
        "\r\n",
        "    #se inserta el elemento extraído para no alterar el array original\r\n",
        "    array.insert(indice,elemento)\r\n",
        "  return array_repetidos"
      ],
      "execution_count": null,
      "outputs": []
    },
    {
      "cell_type": "markdown",
      "metadata": {
        "id": "_wjYuacANchD"
      },
      "source": [
        "**PRUEBA**"
      ]
    },
    {
      "cell_type": "code",
      "metadata": {
        "colab": {
          "base_uri": "https://localhost:8080/"
        },
        "id": "oKXCmZeLkgTx",
        "outputId": "0e41e2a3-c191-426d-b71d-da13f03ed80d"
      },
      "source": [
        "lista = [45, 123, 1, 4, 45, 123, 1, 5, 9]\r\n",
        "repetidos(lista)"
      ],
      "execution_count": null,
      "outputs": [
        {
          "output_type": "execute_result",
          "data": {
            "text/plain": [
              "[45, 123, 1]"
            ]
          },
          "metadata": {
            "tags": []
          },
          "execution_count": 2
        }
      ]
    },
    {
      "cell_type": "code",
      "metadata": {
        "colab": {
          "base_uri": "https://localhost:8080/"
        },
        "id": "-qSTTeoe3Jse",
        "outputId": "1197df19-d97e-4c4c-9d53-b345cdc7ef15"
      },
      "source": [
        "import numpy as np\r\n",
        "#creamos un array con 100 elementos estos varian del 0 al 1000\r\n",
        "array = list(np.random.randint(0,1000,100))\r\n",
        "print(array)\r\n",
        "print(\"El/los elemento(s) repetido(s) : \", repetidos(array))\r\n"
      ],
      "execution_count": null,
      "outputs": [
        {
          "output_type": "stream",
          "text": [
            "[206, 97, 13, 554, 404, 89, 410, 314, 198, 879, 877, 891, 715, 932, 288, 123, 357, 174, 541, 504, 934, 894, 261, 341, 734, 637, 508, 765, 348, 829, 640, 380, 550, 87, 142, 395, 593, 762, 444, 466, 764, 236, 42, 431, 213, 333, 1, 656, 245, 251, 824, 830, 189, 368, 64, 305, 770, 66, 65, 663, 62, 991, 334, 830, 403, 234, 311, 746, 558, 123, 130, 375, 449, 95, 21, 61, 408, 660, 962, 814, 317, 590, 572, 152, 582, 716, 694, 833, 902, 240, 251, 120, 586, 295, 1, 182, 376, 657, 574, 469]\n",
            "El/los elemento(s) repetido(s) :  [123, 1, 251, 830]\n"
          ],
          "name": "stdout"
        }
      ]
    }
  ]
}