{
  "nbformat": 4,
  "nbformat_minor": 0,
  "metadata": {
    "colab": {
      "name": "Caso 2",
      "provenance": [],
      "authorship_tag": "ABX9TyNr0A1kedEvUB0pKcdIWVCb",
      "include_colab_link": true
    },
    "kernelspec": {
      "name": "python3",
      "display_name": "Python 3"
    }
  },
  "cells": [
    {
      "cell_type": "markdown",
      "metadata": {
        "id": "view-in-github",
        "colab_type": "text"
      },
      "source": [
        "<a href=\"https://colab.research.google.com/github/Alexis09Luque/casosDatahack/blob/main/Caso_2.ipynb\" target=\"_parent\"><img src=\"https://colab.research.google.com/assets/colab-badge.svg\" alt=\"Open In Colab\"/></a>"
      ]
    },
    {
      "cell_type": "markdown",
      "metadata": {
        "id": "C407MBAHQXtf"
      },
      "source": [
        "@author *Luque Ayala Juan Alexis* "
      ]
    },
    {
      "cell_type": "markdown",
      "metadata": {
        "id": "JQIWD_JgYc2P"
      },
      "source": [
        "#Dado dos listas/vectores de enteros, indicar si el elemento de menor valor es encontrado en el otro vector. Ej:\r\n",
        "Input V1= [45, 12, 1, 4]      V2=[103, 123, 0, 5, 9]\r\n",
        "Output False"
      ]
    },
    {
      "cell_type": "markdown",
      "metadata": {
        "id": "2L2x8sQIDu6_"
      },
      "source": [
        "**FUNCIÓN**"
      ]
    },
    {
      "cell_type": "code",
      "metadata": {
        "id": "16rneqi-fNK5"
      },
      "source": [
        "def menorValor(vector1,vector2):\r\n",
        "  #hallamos el mínimo del vector 1\r\n",
        "  minimo = min(vector1)\r\n",
        "  #vemos si el mínimo esta en el vector 2\r\n",
        "  if minimo in vector2:\r\n",
        "    return True\r\n",
        "  return False"
      ],
      "execution_count": 1,
      "outputs": []
    },
    {
      "cell_type": "markdown",
      "metadata": {
        "id": "Fvu0wmeiDrsJ"
      },
      "source": [
        "**PRUEBA**"
      ]
    },
    {
      "cell_type": "code",
      "metadata": {
        "colab": {
          "base_uri": "https://localhost:8080/"
        },
        "id": "2t8JdCZpaxP8",
        "outputId": "38cd3525-8fa1-4ac9-ad46-668a4bdb4c03"
      },
      "source": [
        " V1= [45, 12, 1, 4]\r\n",
        " V2=[103, 123, 0, 5, 9]\r\n",
        " menorValor(V1,V2)\r\n"
      ],
      "execution_count": 2,
      "outputs": [
        {
          "output_type": "execute_result",
          "data": {
            "text/plain": [
              "False"
            ]
          },
          "metadata": {
            "tags": []
          },
          "execution_count": 2
        }
      ]
    }
  ]
}